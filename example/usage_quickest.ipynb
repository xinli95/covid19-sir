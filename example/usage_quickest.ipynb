{
 "cells": [
  {
   "cell_type": "markdown",
   "metadata": {},
   "source": [
    "# Usage: quickest tour\n",
    "\n",
    "[![Open In Colab](https://colab.research.google.com/assets/colab-badge.svg)](https://colab.research.google.com/github/lisphilar/covid19-sir/blob/master/example/usage_quickest.ipynb)\n",
    "\n",
    "Thank you for using CovsirPhy!!  \n",
    "This is the quickest tour to get an overview of CovsirPhy.\n",
    "\n",
    "- Download datasets\n",
    "- Parameter estimation with phase-dependent SIR-derived models\n",
    "- Simulate the number of cases"
   ]
  },
  {
   "cell_type": "markdown",
   "metadata": {},
   "source": [
    "## Preparation\n",
    "Prepare the packages."
   ]
  },
  {
   "cell_type": "code",
   "execution_count": 1,
   "metadata": {},
   "outputs": [
    {
     "data": {
      "text/plain": [
       "'C:\\\\Xin\\\\work\\\\github\\\\covid19-sir'"
      ]
     },
     "execution_count": 1,
     "metadata": {},
     "output_type": "execute_result"
    }
   ],
   "source": [
    "# change working directory\n",
    "import os\n",
    "os.chdir('C:\\Xin\\work\\github\\covid19-sir')\n",
    "os.getcwd()"
   ]
  },
  {
   "cell_type": "code",
   "execution_count": 10,
   "metadata": {},
   "outputs": [
    {
     "name": "stdout",
     "output_type": "stream",
     "text": [
      "Collecting japanmap\n",
      "  Downloading japanmap-0.0.23-py3-none-any.whl (167 kB)\n",
      "Collecting Pillow<8.0.0,>=7.1.1\n",
      "  Downloading Pillow-7.2.0-cp37-cp37m-win_amd64.whl (2.1 MB)\n",
      "Collecting opencv-python<5.0.0,>=4.2.0\n",
      "  Downloading opencv_python-4.5.5.62-cp36-abi3-win_amd64.whl (35.4 MB)\n",
      "Note: you may need to restart the kernel to use updated packages.Requirement already satisfied: numpy<2.0.0,>=1.18.2 in c:\\software\\anaconda3\\envs\\covid\\lib\\site-packages (from japanmap) (1.21.4)\n",
      "Installing collected packages: Pillow, opencv-python, japanmap\n",
      "  Attempting uninstall: Pillow\n",
      "    Found existing installation: Pillow 8.2.0\n",
      "    Uninstalling Pillow-8.2.0:\n",
      "      Successfully uninstalled Pillow-8.2.0\n",
      "\n"
     ]
    },
    {
     "name": "stderr",
     "output_type": "stream",
     "text": [
      "ERROR: Could not install packages due to an OSError: [WinError 5] Access is denied: 'c:\\\\software\\\\anaconda3\\\\envs\\\\covid\\\\lib\\\\site-packages\\\\~il\\\\_imaging.cp37-win_amd64.pyd'\n",
      "Consider using the `--user` option or check the permissions.\n",
      "\n"
     ]
    }
   ],
   "source": [
    "# install missing modules\n",
    "# %pip install country-converter\n",
    "# %pip install geopandas\n",
    "# %pip install japanmap"
   ]
  },
  {
   "cell_type": "code",
   "execution_count": 2,
   "metadata": {
    "tags": []
   },
   "outputs": [
    {
     "data": {
      "text/plain": [
       "'2.22.2-alpha'"
      ]
     },
     "execution_count": 2,
     "metadata": {},
     "output_type": "execute_result"
    }
   ],
   "source": [
    "# !pip install covsirphy --upgrade\n",
    "from pprint import pprint\n",
    "import covsirphy as cs\n",
    "cs.__version__"
   ]
  },
  {
   "cell_type": "markdown",
   "metadata": {},
   "source": [
    "## Dataset preparation\n",
    "Download the datasets to \"../input\" directory and load them.\n",
    "If \"../input\" directory has the datasets, `DataLoader` will load the local files. If the datasets were updated in remote servers, `DataLoader` will update the local files automatically.\n",
    "Please refer to [Usage: datasets](https://lisphilar.github.io/covid19-sir/usage_dataset.html) for the details."
   ]
  },
  {
   "cell_type": "code",
   "execution_count": 3,
   "metadata": {
    "tags": []
   },
   "outputs": [
    {
     "name": "stdout",
     "output_type": "stream",
     "text": [
      "Retrieving COVID-19 dataset in Japan from https://github.com/lisphilar/covid19-sir/data/japan\n",
      "Retrieving datasets from COVID-19 Data Hub https://covid19datahub.io/\n",
      "\tPlease set verbose=2 to see the detailed citation list.\n",
      "Retrieving datasets from Our World In Data https://github.com/owid/covid-19-data/\n",
      "Retrieving datasets from COVID-19 Open Data by Google Cloud Platform https://github.com/GoogleCloudPlatform/covid-19-open-data\n"
     ]
    }
   ],
   "source": [
    "# Standard users and developers\n",
    "data_loader = cs.DataLoader(\"../input\")\n",
    "# The number of cases and population values\n",
    "jhu_data = data_loader.jhu()"
   ]
  },
  {
   "cell_type": "markdown",
   "metadata": {},
   "source": [
    "We can select the following countries."
   ]
  },
  {
   "cell_type": "code",
   "execution_count": 4,
   "metadata": {
    "tags": []
   },
   "outputs": [
    {
     "name": "stdout",
     "output_type": "stream",
     "text": [
      "['Afghanistan', 'Albania', 'Algeria', 'American Samoa', 'Andorra', 'Angola',\n",
      " 'Anguilla', 'Antigua and Barbuda', 'Argentina', 'Armenia', 'Aruba',\n",
      " 'Australia', 'Austria', 'Azerbaijan', 'Bahamas', 'Bahrain', 'Bangladesh',\n",
      " 'Barbados', 'Belarus', 'Belgium', 'Belize', 'Benin', 'Bermuda', 'Bhutan',\n",
      " 'Bolivia', 'Bonaire, Sint Eustatius and Saba', 'Bosnia and Herzegovina',\n",
      " 'Botswana', 'Brazil', 'Brunei', 'Bulgaria', 'Burkina Faso', 'Burundi',\n",
      " 'Cambodia', 'Cameroon', 'Canada', 'Cape Verde', 'Cayman Islands',\n",
      " 'Central African Republic', 'Chad', 'Chile', 'China', 'Colombia', 'Comoros',\n",
      " 'Cook Islands', 'Costa Rica', \"Cote d'Ivoire\", 'Croatia', 'Cuba', 'Curacao',\n",
      " 'Cyprus', 'Czech Republic', 'Democratic Republic of the Congo', 'Denmark',\n",
      " 'Djibouti', 'Dominica', 'Dominican Republic', 'Ecuador', 'Egypt',\n",
      " 'El Salvador', 'Equatorial Guinea', 'Eritrea', 'Estonia', 'Ethiopia',\n",
      " 'Falkland Islands (Malvinas)', 'Faroe Islands', 'Fiji', 'Finland', 'France',\n",
      " 'French Guiana', 'French Polynesia', 'Gabon', 'Gambia', 'Georgia', 'Germany',\n",
      " 'Ghana', 'Gibraltar', 'Greece', 'Greenland', 'Grenada', 'Guadeloupe', 'Guam',\n",
      " 'Guatemala', 'Guinea', 'Guinea-Bissau', 'Guyana', 'Haiti', 'Holy See',\n",
      " 'Honduras', 'Hungary', 'Iceland', 'India', 'Indonesia', 'Iran', 'Iraq',\n",
      " 'Ireland', 'Isle of Man', 'Israel', 'Italy', 'Jamaica', 'Japan', 'Jordan',\n",
      " 'Kazakhstan', 'Kenya', 'Kiribati', 'Kosovo', 'Kuwait', 'Kyrgyzstan', 'Laos',\n",
      " 'Latvia', 'Lebanon', 'Lesotho', 'Liberia', 'Libya', 'Liechtenstein',\n",
      " 'Lithuania', 'Luxembourg', 'Madagascar', 'Malawi', 'Malaysia', 'Maldives',\n",
      " 'Mali', 'Malta', 'Marshall Islands', 'Martinique', 'Mauritania', 'Mauritius',\n",
      " 'Mayotte', 'Mexico', 'Micronesia', 'Moldova', 'Monaco', 'Mongolia',\n",
      " 'Montenegro', 'Montserrat', 'Morocco', 'Mozambique', 'Myanmar', 'Namibia',\n",
      " 'Nepal', 'Netherlands', 'New Caledonia', 'New Zealand', 'Nicaragua', 'Niger',\n",
      " 'Nigeria', 'North Macedonia', 'Northern Mariana Islands', 'Norway', 'Oman',\n",
      " 'Pakistan', 'Palau', 'Palestine', 'Panama', 'Papua New Guinea', 'Paraguay',\n",
      " 'Peru', 'Philippines', 'Poland', 'Portugal', 'Puerto Rico', 'Qatar',\n",
      " 'Republic of the Congo', 'Romania', 'Russia', 'Rwanda', 'Réunion',\n",
      " 'Saint Helena, Ascension and Tristan da Cunha', 'Saint Kitts and Nevis',\n",
      " 'Saint Lucia', 'Saint Vincent and the Grenadines', 'Samoa', 'San Marino',\n",
      " 'Sao Tome and Principe', 'Saudi Arabia', 'Senegal', 'Serbia', 'Seychelles',\n",
      " 'Sierra Leone', 'Singapore', 'Sint Maarten', 'Slovakia', 'Slovenia',\n",
      " 'Solomon Islands', 'Somalia', 'South Africa', 'South Korea', 'South Sudan',\n",
      " 'Spain', 'Sri Lanka', 'Sudan', 'Suriname', 'Swaziland', 'Sweden',\n",
      " 'Switzerland', 'Syria', 'Taiwan', 'Tajikistan', 'Tanzania', 'Thailand',\n",
      " 'Timor-Leste', 'Togo', 'Tonga', 'Trinidad and Tobago', 'Tunisia', 'Turkey',\n",
      " 'Turks and Caicos Islands', 'Uganda', 'Ukraine', 'United Arab Emirates',\n",
      " 'United Kingdom', 'United States', 'Uruguay', 'Uzbekistan', 'Vanuatu',\n",
      " 'Venezuela', 'Vietnam', 'Virgin Islands, British', 'Virgin Islands, U.S.',\n",
      " 'Wallis and Futuna', 'Yemen', 'Zambia', 'Zimbabwe']\n"
     ]
    }
   ],
   "source": [
    "pprint(jhu_data.countries(), compact=True)"
   ]
  },
  {
   "cell_type": "markdown",
   "metadata": {},
   "source": [
    "## Start scenario analysis\n",
    "As an example, we will analysis the number of cases in Italy using `Scenario` class. To initialize this class, we need to specify the country name."
   ]
  },
  {
   "cell_type": "code",
   "execution_count": 4,
   "metadata": {},
   "outputs": [],
   "source": [
    "snl = cs.Scenario(country=\"Italy\", province=None)\n",
    "snl.register(jhu_data)"
   ]
  },
  {
   "cell_type": "markdown",
   "metadata": {},
   "source": [
    "## Check records\n",
    "Let's see the records at first. `Scenario.records()` method return the records as a pandas dataframe and show a line plot. Some kind of complement will be done for analysis, if necessary."
   ]
  },
  {
   "cell_type": "code",
   "execution_count": 7,
   "metadata": {},
   "outputs": [
    {
     "data": {
      "image/png": "[encoded data removed]",
      "text/plain": [
       "<Figure size 648x432 with 1 Axes>"
      ]
     },
     "metadata": {},
     "output_type": "display_data"
    },
    {
     "data": {
      "text/html": [
       "<div>\n",
       "<style scoped>\n",
       "    .dataframe tbody tr th:only-of-type {\n",
       "        vertical-align: middle;\n",
       "    }\n",
       "\n",
       "    .dataframe tbody tr th {\n",
       "        vertical-align: top;\n",
       "    }\n",
       "\n",
       "    .dataframe thead th {\n",
       "        text-align: right;\n",
       "    }\n",
       "</style>\n",
       "<table border=\"1\" class=\"dataframe\">\n",
       "  <thead>\n",
       "    <tr style=\"text-align: right;\">\n",
       "      <th></th>\n",
       "      <th>Date</th>\n",
       "      <th>Infected</th>\n",
       "      <th>Fatal</th>\n",
       "      <th>Recovered</th>\n",
       "    </tr>\n",
       "  </thead>\n",
       "  <tbody>\n",
       "    <tr>\n",
       "      <th>693</th>\n",
       "      <td>2022-01-17</td>\n",
       "      <td>2555278</td>\n",
       "      <td>141391</td>\n",
       "      <td>6093633</td>\n",
       "    </tr>\n",
       "    <tr>\n",
       "      <th>694</th>\n",
       "      <td>2022-01-18</td>\n",
       "      <td>2562156</td>\n",
       "      <td>141825</td>\n",
       "      <td>6314444</td>\n",
       "    </tr>\n",
       "    <tr>\n",
       "      <th>695</th>\n",
       "      <td>2022-01-19</td>\n",
       "      <td>2626590</td>\n",
       "      <td>142205</td>\n",
       "      <td>6450596</td>\n",
       "    </tr>\n",
       "    <tr>\n",
       "      <th>696</th>\n",
       "      <td>2022-01-20</td>\n",
       "      <td>2682041</td>\n",
       "      <td>142590</td>\n",
       "      <td>6593625</td>\n",
       "    </tr>\n",
       "    <tr>\n",
       "      <th>697</th>\n",
       "      <td>2022-01-21</td>\n",
       "      <td>2695703</td>\n",
       "      <td>142963</td>\n",
       "      <td>6765190</td>\n",
       "    </tr>\n",
       "  </tbody>\n",
       "</table>\n",
       "</div>"
      ],
      "text/plain": [
       "          Date  Infected   Fatal  Recovered\n",
       "693 2022-01-17   2555278  141391    6093633\n",
       "694 2022-01-18   2562156  141825    6314444\n",
       "695 2022-01-19   2626590  142205    6450596\n",
       "696 2022-01-20   2682041  142590    6593625\n",
       "697 2022-01-21   2695703  142963    6765190"
      ]
     },
     "execution_count": 7,
     "metadata": {},
     "output_type": "execute_result"
    }
   ],
   "source": [
    "df = snl.records()\n",
    "df.tail()"
   ]
  },
  {
   "cell_type": "markdown",
   "metadata": {},
   "source": [
    "## S-R trend analysis\n",
    "S-R trend analysis finds the change points of SIR-derived ODE parameters. This is a significant step of analysis because we assume that ODE parameter values will be changed phase by phase (not daily basis, not constant through the outbreak).  \n",
    "Details will be explained in [Usage: phases](https://lisphilar.github.io/covid19-sir/usage_phases.html)."
   ]
  },
  {
   "cell_type": "code",
   "execution_count": 8,
   "metadata": {},
   "outputs": [
    {
     "data": {
      "image/png": "[encoded data removed]",
      "text/plain": [
       "<Figure size 648x432 with 1 Axes>"
      ]
     },
     "metadata": {},
     "output_type": "display_data"
    }
   ],
   "source": [
    "_ = snl.trend()"
   ]
  },
  {
   "cell_type": "markdown",
   "metadata": {},
   "source": [
    "Summarize the phases.\n",
    "\n",
    "- Type: \"Past\" or \"Future\"\n",
    "- Start: start date of the phases\n",
    "- End: end date of the phases\n",
    "- Population: total population in the phases"
   ]
  },
  {
   "cell_type": "code",
   "execution_count": 9,
   "metadata": {},
   "outputs": [
    {
     "data": {
      "text/html": [
       "<div>\n",
       "<style scoped>\n",
       "    .dataframe tbody tr th:only-of-type {\n",
       "        vertical-align: middle;\n",
       "    }\n",
       "\n",
       "    .dataframe tbody tr th {\n",
       "        vertical-align: top;\n",
       "    }\n",
       "\n",
       "    .dataframe thead th {\n",
       "        text-align: right;\n",
       "    }\n",
       "</style>\n",
       "<table border=\"1\" class=\"dataframe\">\n",
       "  <thead>\n",
       "    <tr style=\"text-align: right;\">\n",
       "      <th></th>\n",
       "      <th>Type</th>\n",
       "      <th>Start</th>\n",
       "      <th>End</th>\n",
       "      <th>Population</th>\n",
       "    </tr>\n",
       "  </thead>\n",
       "  <tbody>\n",
       "    <tr>\n",
       "      <th>0th</th>\n",
       "      <td>Past</td>\n",
       "      <td>24Feb2020</td>\n",
       "      <td>22Mar2020</td>\n",
       "      <td>60421760</td>\n",
       "    </tr>\n",
       "    <tr>\n",
       "      <th>1st</th>\n",
       "      <td>Past</td>\n",
       "      <td>23Mar2020</td>\n",
       "      <td>10Apr2020</td>\n",
       "      <td>60421760</td>\n",
       "    </tr>\n",
       "    <tr>\n",
       "      <th>2nd</th>\n",
       "      <td>Past</td>\n",
       "      <td>11Apr2020</td>\n",
       "      <td>05May2020</td>\n",
       "      <td>60421760</td>\n",
       "    </tr>\n",
       "    <tr>\n",
       "      <th>3rd</th>\n",
       "      <td>Past</td>\n",
       "      <td>06May2020</td>\n",
       "      <td>26Aug2020</td>\n",
       "      <td>60421760</td>\n",
       "    </tr>\n",
       "    <tr>\n",
       "      <th>4th</th>\n",
       "      <td>Past</td>\n",
       "      <td>27Aug2020</td>\n",
       "      <td>21Sep2020</td>\n",
       "      <td>60421760</td>\n",
       "    </tr>\n",
       "    <tr>\n",
       "      <th>5th</th>\n",
       "      <td>Past</td>\n",
       "      <td>22Sep2020</td>\n",
       "      <td>09Oct2020</td>\n",
       "      <td>60421760</td>\n",
       "    </tr>\n",
       "    <tr>\n",
       "      <th>6th</th>\n",
       "      <td>Past</td>\n",
       "      <td>10Oct2020</td>\n",
       "      <td>24Oct2020</td>\n",
       "      <td>60421760</td>\n",
       "    </tr>\n",
       "    <tr>\n",
       "      <th>7th</th>\n",
       "      <td>Past</td>\n",
       "      <td>25Oct2020</td>\n",
       "      <td>02Nov2020</td>\n",
       "      <td>60421760</td>\n",
       "    </tr>\n",
       "    <tr>\n",
       "      <th>8th</th>\n",
       "      <td>Past</td>\n",
       "      <td>03Nov2020</td>\n",
       "      <td>15Nov2020</td>\n",
       "      <td>60421760</td>\n",
       "    </tr>\n",
       "    <tr>\n",
       "      <th>9th</th>\n",
       "      <td>Past</td>\n",
       "      <td>16Nov2020</td>\n",
       "      <td>28Nov2020</td>\n",
       "      <td>60421760</td>\n",
       "    </tr>\n",
       "    <tr>\n",
       "      <th>10th</th>\n",
       "      <td>Past</td>\n",
       "      <td>29Nov2020</td>\n",
       "      <td>07Dec2020</td>\n",
       "      <td>60421760</td>\n",
       "    </tr>\n",
       "    <tr>\n",
       "      <th>11th</th>\n",
       "      <td>Past</td>\n",
       "      <td>08Dec2020</td>\n",
       "      <td>16Dec2020</td>\n",
       "      <td>60421760</td>\n",
       "    </tr>\n",
       "    <tr>\n",
       "      <th>12th</th>\n",
       "      <td>Past</td>\n",
       "      <td>17Dec2020</td>\n",
       "      <td>28Dec2020</td>\n",
       "      <td>60421760</td>\n",
       "    </tr>\n",
       "    <tr>\n",
       "      <th>13th</th>\n",
       "      <td>Past</td>\n",
       "      <td>29Dec2020</td>\n",
       "      <td>05Jan2021</td>\n",
       "      <td>60421760</td>\n",
       "    </tr>\n",
       "    <tr>\n",
       "      <th>14th</th>\n",
       "      <td>Past</td>\n",
       "      <td>06Jan2021</td>\n",
       "      <td>13Jan2021</td>\n",
       "      <td>60421760</td>\n",
       "    </tr>\n",
       "    <tr>\n",
       "      <th>15th</th>\n",
       "      <td>Past</td>\n",
       "      <td>14Jan2021</td>\n",
       "      <td>22Jan2021</td>\n",
       "      <td>60421760</td>\n",
       "    </tr>\n",
       "    <tr>\n",
       "      <th>16th</th>\n",
       "      <td>Past</td>\n",
       "      <td>23Jan2021</td>\n",
       "      <td>01Feb2021</td>\n",
       "      <td>60421760</td>\n",
       "    </tr>\n",
       "    <tr>\n",
       "      <th>17th</th>\n",
       "      <td>Past</td>\n",
       "      <td>02Feb2021</td>\n",
       "      <td>11Feb2021</td>\n",
       "      <td>60421760</td>\n",
       "    </tr>\n",
       "    <tr>\n",
       "      <th>18th</th>\n",
       "      <td>Past</td>\n",
       "      <td>12Feb2021</td>\n",
       "      <td>21Feb2021</td>\n",
       "      <td>60421760</td>\n",
       "    </tr>\n",
       "    <tr>\n",
       "      <th>19th</th>\n",
       "      <td>Past</td>\n",
       "      <td>22Feb2021</td>\n",
       "      <td>01Mar2021</td>\n",
       "      <td>60421760</td>\n",
       "    </tr>\n",
       "    <tr>\n",
       "      <th>20th</th>\n",
       "      <td>Past</td>\n",
       "      <td>02Mar2021</td>\n",
       "      <td>15Mar2021</td>\n",
       "      <td>60421760</td>\n",
       "    </tr>\n",
       "    <tr>\n",
       "      <th>21st</th>\n",
       "      <td>Past</td>\n",
       "      <td>16Mar2021</td>\n",
       "      <td>24Mar2021</td>\n",
       "      <td>60421760</td>\n",
       "    </tr>\n",
       "    <tr>\n",
       "      <th>22nd</th>\n",
       "      <td>Past</td>\n",
       "      <td>25Mar2021</td>\n",
       "      <td>02Apr2021</td>\n",
       "      <td>60421760</td>\n",
       "    </tr>\n",
       "    <tr>\n",
       "      <th>23rd</th>\n",
       "      <td>Past</td>\n",
       "      <td>03Apr2021</td>\n",
       "      <td>14Apr2021</td>\n",
       "      <td>60421760</td>\n",
       "    </tr>\n",
       "    <tr>\n",
       "      <th>24th</th>\n",
       "      <td>Past</td>\n",
       "      <td>15Apr2021</td>\n",
       "      <td>28Apr2021</td>\n",
       "      <td>60421760</td>\n",
       "    </tr>\n",
       "    <tr>\n",
       "      <th>25th</th>\n",
       "      <td>Past</td>\n",
       "      <td>29Apr2021</td>\n",
       "      <td>09May2021</td>\n",
       "      <td>60421760</td>\n",
       "    </tr>\n",
       "    <tr>\n",
       "      <th>26th</th>\n",
       "      <td>Past</td>\n",
       "      <td>10May2021</td>\n",
       "      <td>26May2021</td>\n",
       "      <td>60421760</td>\n",
       "    </tr>\n",
       "    <tr>\n",
       "      <th>27th</th>\n",
       "      <td>Past</td>\n",
       "      <td>27May2021</td>\n",
       "      <td>17Jun2021</td>\n",
       "      <td>60421760</td>\n",
       "    </tr>\n",
       "    <tr>\n",
       "      <th>28th</th>\n",
       "      <td>Past</td>\n",
       "      <td>18Jun2021</td>\n",
       "      <td>22Jul2021</td>\n",
       "      <td>60421760</td>\n",
       "    </tr>\n",
       "    <tr>\n",
       "      <th>29th</th>\n",
       "      <td>Past</td>\n",
       "      <td>23Jul2021</td>\n",
       "      <td>02Aug2021</td>\n",
       "      <td>60421760</td>\n",
       "    </tr>\n",
       "    <tr>\n",
       "      <th>30th</th>\n",
       "      <td>Past</td>\n",
       "      <td>03Aug2021</td>\n",
       "      <td>12Aug2021</td>\n",
       "      <td>60421760</td>\n",
       "    </tr>\n",
       "    <tr>\n",
       "      <th>31st</th>\n",
       "      <td>Past</td>\n",
       "      <td>13Aug2021</td>\n",
       "      <td>25Aug2021</td>\n",
       "      <td>60421760</td>\n",
       "    </tr>\n",
       "    <tr>\n",
       "      <th>32nd</th>\n",
       "      <td>Past</td>\n",
       "      <td>26Aug2021</td>\n",
       "      <td>09Sep2021</td>\n",
       "      <td>60421760</td>\n",
       "    </tr>\n",
       "    <tr>\n",
       "      <th>33rd</th>\n",
       "      <td>Past</td>\n",
       "      <td>10Sep2021</td>\n",
       "      <td>30Sep2021</td>\n",
       "      <td>60421760</td>\n",
       "    </tr>\n",
       "    <tr>\n",
       "      <th>34th</th>\n",
       "      <td>Past</td>\n",
       "      <td>01Oct2021</td>\n",
       "      <td>15Oct2021</td>\n",
       "      <td>60421760</td>\n",
       "    </tr>\n",
       "    <tr>\n",
       "      <th>35th</th>\n",
       "      <td>Past</td>\n",
       "      <td>16Oct2021</td>\n",
       "      <td>27Oct2021</td>\n",
       "      <td>60421760</td>\n",
       "    </tr>\n",
       "    <tr>\n",
       "      <th>36th</th>\n",
       "      <td>Past</td>\n",
       "      <td>28Oct2021</td>\n",
       "      <td>09Nov2021</td>\n",
       "      <td>60421760</td>\n",
       "    </tr>\n",
       "    <tr>\n",
       "      <th>37th</th>\n",
       "      <td>Past</td>\n",
       "      <td>10Nov2021</td>\n",
       "      <td>19Nov2021</td>\n",
       "      <td>60421760</td>\n",
       "    </tr>\n",
       "    <tr>\n",
       "      <th>38th</th>\n",
       "      <td>Past</td>\n",
       "      <td>20Nov2021</td>\n",
       "      <td>27Nov2021</td>\n",
       "      <td>60421760</td>\n",
       "    </tr>\n",
       "    <tr>\n",
       "      <th>39th</th>\n",
       "      <td>Past</td>\n",
       "      <td>28Nov2021</td>\n",
       "      <td>05Dec2021</td>\n",
       "      <td>60421760</td>\n",
       "    </tr>\n",
       "    <tr>\n",
       "      <th>40th</th>\n",
       "      <td>Past</td>\n",
       "      <td>06Dec2021</td>\n",
       "      <td>20Dec2021</td>\n",
       "      <td>60421760</td>\n",
       "    </tr>\n",
       "    <tr>\n",
       "      <th>41st</th>\n",
       "      <td>Past</td>\n",
       "      <td>21Dec2021</td>\n",
       "      <td>29Dec2021</td>\n",
       "      <td>60421760</td>\n",
       "    </tr>\n",
       "    <tr>\n",
       "      <th>42nd</th>\n",
       "      <td>Past</td>\n",
       "      <td>30Dec2021</td>\n",
       "      <td>09Jan2022</td>\n",
       "      <td>60421760</td>\n",
       "    </tr>\n",
       "    <tr>\n",
       "      <th>43rd</th>\n",
       "      <td>Past</td>\n",
       "      <td>10Jan2022</td>\n",
       "      <td>21Jan2022</td>\n",
       "      <td>60421760</td>\n",
       "    </tr>\n",
       "  </tbody>\n",
       "</table>\n",
       "</div>"
      ],
      "text/plain": [
       "      Type      Start        End  Population\n",
       "0th   Past  24Feb2020  22Mar2020    60421760\n",
       "1st   Past  23Mar2020  10Apr2020    60421760\n",
       "2nd   Past  11Apr2020  05May2020    60421760\n",
       "3rd   Past  06May2020  26Aug2020    60421760\n",
       "4th   Past  27Aug2020  21Sep2020    60421760\n",
       "5th   Past  22Sep2020  09Oct2020    60421760\n",
       "6th   Past  10Oct2020  24Oct2020    60421760\n",
       "7th   Past  25Oct2020  02Nov2020    60421760\n",
       "8th   Past  03Nov2020  15Nov2020    60421760\n",
       "9th   Past  16Nov2020  28Nov2020    60421760\n",
       "10th  Past  29Nov2020  07Dec2020    60421760\n",
       "11th  Past  08Dec2020  16Dec2020    60421760\n",
       "12th  Past  17Dec2020  28Dec2020    60421760\n",
       "13th  Past  29Dec2020  05Jan2021    60421760\n",
       "14th  Past  06Jan2021  13Jan2021    60421760\n",
       "15th  Past  14Jan2021  22Jan2021    60421760\n",
       "16th  Past  23Jan2021  01Feb2021    60421760\n",
       "17th  Past  02Feb2021  11Feb2021    60421760\n",
       "18th  Past  12Feb2021  21Feb2021    60421760\n",
       "19th  Past  22Feb2021  01Mar2021    60421760\n",
       "20th  Past  02Mar2021  15Mar2021    60421760\n",
       "21st  Past  16Mar2021  24Mar2021    60421760\n",
       "22nd  Past  25Mar2021  02Apr2021    60421760\n",
       "23rd  Past  03Apr2021  14Apr2021    60421760\n",
       "24th  Past  15Apr2021  28Apr2021    60421760\n",
       "25th  Past  29Apr2021  09May2021    60421760\n",
       "26th  Past  10May2021  26May2021    60421760\n",
       "27th  Past  27May2021  17Jun2021    60421760\n",
       "28th  Past  18Jun2021  22Jul2021    60421760\n",
       "29th  Past  23Jul2021  02Aug2021    60421760\n",
       "30th  Past  03Aug2021  12Aug2021    60421760\n",
       "31st  Past  13Aug2021  25Aug2021    60421760\n",
       "32nd  Past  26Aug2021  09Sep2021    60421760\n",
       "33rd  Past  10Sep2021  30Sep2021    60421760\n",
       "34th  Past  01Oct2021  15Oct2021    60421760\n",
       "35th  Past  16Oct2021  27Oct2021    60421760\n",
       "36th  Past  28Oct2021  09Nov2021    60421760\n",
       "37th  Past  10Nov2021  19Nov2021    60421760\n",
       "38th  Past  20Nov2021  27Nov2021    60421760\n",
       "39th  Past  28Nov2021  05Dec2021    60421760\n",
       "40th  Past  06Dec2021  20Dec2021    60421760\n",
       "41st  Past  21Dec2021  29Dec2021    60421760\n",
       "42nd  Past  30Dec2021  09Jan2022    60421760\n",
       "43rd  Past  10Jan2022  21Jan2022    60421760"
      ]
     },
     "execution_count": 9,
     "metadata": {},
     "output_type": "execute_result"
    }
   ],
   "source": [
    "snl.summary()"
   ]
  },
  {
   "cell_type": "markdown",
   "metadata": {},
   "source": [
    "## Hyperparameter estimation of ODE models\n",
    "Here, we will estimate the parameter values of SIR-derived models. As an example, we use SIR-F model. Details of models will be explained in [Usage: SIR-derived models](https://lisphilar.github.io/covid19-sir/usage_theoretical.html)."
   ]
  },
  {
   "cell_type": "code",
   "execution_count": null,
   "metadata": {
    "tags": []
   },
   "outputs": [],
   "source": [
    "# Default value of timeout is 180 sec\n",
    "snl.estimate(cs.SIRF, timeout=30)"
   ]
  },
  {
   "cell_type": "markdown",
   "metadata": {},
   "source": [
    "## History of reproduction number\n",
    "Let's see the history of parameter values. Reproduction number is here."
   ]
  },
  {
   "cell_type": "code",
   "execution_count": null,
   "metadata": {},
   "outputs": [],
   "source": [
    "_ = snl.history(target=\"Rt\")"
   ]
  },
  {
   "cell_type": "markdown",
   "metadata": {},
   "source": [
    "## History of parameters\n",
    "History of each parameter. Values will be divided by the values in 0th phase."
   ]
  },
  {
   "cell_type": "code",
   "execution_count": null,
   "metadata": {},
   "outputs": [],
   "source": [
    "_ = snl.history_rate()"
   ]
  },
  {
   "cell_type": "markdown",
   "metadata": {},
   "source": [
    "## Simulate the number of cases\n",
    "How many cases will be in 30 days if the parameter values will not be changed from today?"
   ]
  },
  {
   "cell_type": "code",
   "execution_count": null,
   "metadata": {},
   "outputs": [],
   "source": [
    "# Add a phase with 30 days from the date of the last record\n",
    "snl.add(days=30)\n",
    "_ = snl.simulate()"
   ]
  },
  {
   "cell_type": "markdown",
   "metadata": {},
   "source": [
    "Next, please see [Usage: scenario analysis](https://lisphilar.github.io/covid19-sir/usage_quick.html) to find details of datasets and how to perform scenario analysis.  \n",
    "Thank you!"
   ]
  }
 ],
 "metadata": {
  "kernelspec": {
   "display_name": "Python 3.9.1 64-bit ('.venv')",
   "metadata": {
    "interpreter": {
     "hash": "aa53c8c6e6798222a2084c11cc25017700a8d3ad495b587e3a634f357767115f"
    }
   },
   "name": "python3"
  },
  "language_info": {
   "codemirror_mode": {
    "name": "ipython",
    "version": 3
   },
   "file_extension": ".py",
   "mimetype": "text/x-python",
   "name": "python",
   "nbconvert_exporter": "python",
   "pygments_lexer": "ipython3",
   "version": "3.7.10"
  },
  "orig_nbformat": 2
 },
 "nbformat": 4,
 "nbformat_minor": 2
}
